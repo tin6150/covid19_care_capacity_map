{
 "cells": [
  {
   "cell_type": "code",
   "execution_count": 3,
   "metadata": {
    "collapsed": false
   },
   "outputs": [
    {
     "name": "stdout",
     "output_type": "stream",
     "text": [
      "hello world from jupyter ipython\n"
     ]
    }
   ],
   "source": [
    "print( \"hello world from jupyter ipython\")"
   ]
  },
  {
   "cell_type": "code",
   "execution_count": 4,
   "metadata": {
    "collapsed": false
   },
   "outputs": [
    {
     "name": "stdout",
     "output_type": "stream",
     "text": [
      "mac interface is better?\n"
     ]
    }
   ],
   "source": [
    "print( \"mac interface is better?\")"
   ]
  },
  {
   "cell_type": "code",
   "execution_count": 13,
   "metadata": {
    "collapsed": true
   },
   "outputs": [],
   "source": [
    "import subprocess"
   ]
  },
  {
   "cell_type": "code",
   "execution_count": 12,
   "metadata": {
    "collapsed": false
   },
   "outputs": [
    {
     "ename": "ImportError",
     "evalue": "No module named 'commands'",
     "output_type": "error",
     "traceback": [
      "\u001b[0;31m---------------------------------------------------------------------------\u001b[0m",
      "\u001b[0;31mImportError\u001b[0m                               Traceback (most recent call last)",
      "\u001b[0;32m<ipython-input-12-00c52992f549>\u001b[0m in \u001b[0;36m<module>\u001b[0;34m()\u001b[0m\n\u001b[0;32m----> 1\u001b[0;31m \u001b[0;32mimport\u001b[0m \u001b[0mcommands\u001b[0m\u001b[0;34m\u001b[0m\u001b[0m\n\u001b[0m",
      "\u001b[0;31mImportError\u001b[0m: No module named 'commands'"
     ]
    }
   ],
   "source": [
    "import commands"
   ]
  },
  {
   "cell_type": "code",
   "execution_count": 15,
   "metadata": {
    "collapsed": false
   },
   "outputs": [
    {
     "ename": "TypeError",
     "evalue": "'int' object is not iterable",
     "output_type": "error",
     "traceback": [
      "\u001b[0;31m---------------------------------------------------------------------------\u001b[0m",
      "\u001b[0;31mTypeError\u001b[0m                                 Traceback (most recent call last)",
      "\u001b[0;32m<ipython-input-15-10de6d98eb19>\u001b[0m in \u001b[0;36m<module>\u001b[0;34m()\u001b[0m\n\u001b[1;32m     42\u001b[0m         \u001b[0mssh_cmd\u001b[0m \u001b[0;34m=\u001b[0m \u001b[0;34m\"ssh \"\u001b[0m \u001b[0;34m+\u001b[0m \u001b[0mhost\u001b[0m \u001b[0;34m+\u001b[0m \u001b[0;34m\" \"\u001b[0m \u001b[0;34m+\u001b[0m \u001b[0mcmd\u001b[0m\u001b[0;34m\u001b[0m\u001b[0m\n\u001b[1;32m     43\u001b[0m         \u001b[0;31m#response, output = commands.getstatusoutput( ssh_cmd )\u001b[0m\u001b[0;34m\u001b[0m\u001b[0;34m\u001b[0m\u001b[0m\n\u001b[0;32m---> 44\u001b[0;31m         \u001b[0mresponse\u001b[0m\u001b[0;34m,\u001b[0m \u001b[0moutput\u001b[0m \u001b[0;34m=\u001b[0m \u001b[0msubprocess\u001b[0m\u001b[0;34m.\u001b[0m\u001b[0mcall\u001b[0m\u001b[0;34m(\u001b[0m \u001b[0;34m[\u001b[0m\u001b[0;34m\"ssh\"\u001b[0m\u001b[0;34m,\u001b[0m \u001b[0mhost\u001b[0m\u001b[0;34m,\u001b[0m \u001b[0mcmd\u001b[0m\u001b[0;34m]\u001b[0m \u001b[0;34m)\u001b[0m\u001b[0;34m\u001b[0m\u001b[0m\n\u001b[0m\u001b[1;32m     45\u001b[0m         \u001b[0;32mif\u001b[0m \u001b[0mresponse\u001b[0m \u001b[0;34m==\u001b[0m \u001b[0;36m0\u001b[0m\u001b[0;34m:\u001b[0m\u001b[0;34m\u001b[0m\u001b[0m\n\u001b[1;32m     46\u001b[0m                 \u001b[0mping_status\u001b[0m \u001b[0;34m=\u001b[0m \u001b[0;34m\"pingable\"\u001b[0m\u001b[0;34m\u001b[0m\u001b[0m\n",
      "\u001b[0;31mTypeError\u001b[0m: 'int' object is not iterable"
     ]
    }
   ],
   "source": [
    "# commands don't work in python3 :(\n",
    "import socket\n",
    "#import os\n",
    "#import commands\n",
    "import subprocess\n",
    "#host = \"skywalker-1-1-ctl\"\n",
    "#ip = socket.gethostbyname( host )\n",
    "\n",
    "host_list = []\n",
    "\n",
    "# chassis ctl\n",
    "#host_list.append( \"skywalker-ctl\" )     # 1st chassis has special naming\n",
    "#for y in [2,3,5,6]:\n",
    "#        host = \"skywalker\" + str(y) + \"-ctl\"\n",
    "#        host_list.append( host )\n",
    "\n",
    "# blade/nodes.  no skywalker-1-1, so stripped all of 1 for now\n",
    "for y in [2,3,5,6]:\n",
    "    for x in range( 1, 17 ):            # last number not included, ie will not process for 17.\n",
    "        host = \"skywalker-\" + str(y) + \"-\" + str(x)\n",
    "        host_list.append( host )\n",
    "# stand alone node.  Note: no 4-2 or 4-3\n",
    "host_list.append( \"skywalker-4-1-ctl\" )\n",
    "y = 4\n",
    "for x in range( 4, 11 ):\n",
    "        host = \"skywalker-\" + str(y) + \"-\" + str(x)\n",
    "        host_list.append( host )\n",
    "y = 7\n",
    "for x in range( 1, 6 ):\n",
    "        host = \"skywalker-\" + str(y) + \"-\" + str(x)\n",
    "        host_list.append( host )\n",
    "\n",
    "\n",
    "#print( host_list )\n",
    "# lookup ip and ping\n",
    "cmd = \"uptime\"\n",
    "ssh_cmd = \"ssh\"\n",
    "response = 0\n",
    "for host in host_list:\n",
    "        #print( \"looking up \" + host + \"...\" )\n",
    "        #ip = socket.gethostbyname( host )\n",
    "        #response = os.system(\"ping -c 1 \" + host )\n",
    "        ssh_cmd = \"ssh \" + host + \" \" + cmd\n",
    "        #response, output = commands.getstatusoutput( ssh_cmd )\n",
    "        output = subprocess.call( [\"ssh\", host, cmd] )\n",
    "        if response == 0:\n",
    "                ping_status = \"pingable\"\n",
    "        else:\n",
    "                ping_status = \"NOT_pingable\"\n",
    "        outputline = host + \"\\t\" +  output\n",
    "        print( outputline )\n",
    "\n",
    "        "
   ]
  }
 ],
 "metadata": {
  "kernelspec": {
   "display_name": "Python 3",
   "language": "python",
   "name": "python3"
  },
  "language_info": {
   "codemirror_mode": {
    "name": "ipython",
    "version": 3
   },
   "file_extension": ".py",
   "mimetype": "text/x-python",
   "name": "python",
   "nbconvert_exporter": "python",
   "pygments_lexer": "ipython3",
   "version": "3.5.1"
  }
 },
 "nbformat": 4,
 "nbformat_minor": 2
}
